{
 "cells": [
  {
   "cell_type": "code",
   "execution_count": 11,
   "metadata": {},
   "outputs": [],
   "source": [
    "from pathlib import Path\n",
    "from balsa import read_mdf\n",
    "import pandas as pd\n",
    "import numpy as np"
   ]
  },
  {
   "cell_type": "markdown",
   "metadata": {},
   "source": [
    "# Simple Model Demonstration Script\n",
    "_Peter Kucirek | WSP_"
   ]
  },
  {
   "cell_type": "code",
   "execution_count": 12,
   "metadata": {},
   "outputs": [],
   "source": [
    "OUTPUT_FOLDER = r\"C:\\Users\\pjk\\Documents\\GGHM Development\\Outputs\\WSP 4.0.2 Benchmark April 13 2018\"  # You folder here"
   ]
  },
  {
   "cell_type": "code",
   "execution_count": 13,
   "metadata": {},
   "outputs": [],
   "source": [
    "parent_folder = Path(OUTPUT_FOLDER)\n",
    "tiprs_folder = parent_folder / \"Trip Matrices\""
   ]
  },
  {
   "cell_type": "code",
   "execution_count": 14,
   "metadata": {},
   "outputs": [
    {
     "name": "stdout",
     "output_type": "stream",
     "text": [
      "trips_am_peak_auto1_nt\n",
      "trips_am_peak_auto1_toll\n",
      "trips_am_peak_auto2_nt_hov\n",
      "trips_am_peak_auto2_nt_nh\n",
      "trips_am_peak_auto2_toll_hov\n",
      "trips_am_peak_auto2_toll_nh\n",
      "trips_am_peak_auto3_nt_hov\n",
      "trips_am_peak_auto3_nt_nh\n",
      "trips_am_peak_auto3_toll_hov\n",
      "trips_am_peak_auto3_toll_nh\n",
      "trips_evening_auto1_nt\n",
      "trips_evening_auto1_toll\n",
      "trips_evening_auto2_nt_hov\n",
      "trips_evening_auto2_nt_nh\n",
      "trips_evening_auto2_toll_hov\n",
      "trips_evening_auto2_toll_nh\n",
      "trips_evening_auto3_nt_hov\n",
      "trips_evening_auto3_nt_nh\n",
      "trips_evening_auto3_toll_hov\n",
      "trips_evening_auto3_toll_nh\n",
      "trips_midday_auto1_nt\n",
      "trips_midday_auto1_toll\n",
      "trips_midday_auto2_nt_hov\n",
      "trips_midday_auto2_nt_nh\n",
      "trips_midday_auto2_toll_hov\n",
      "trips_midday_auto2_toll_nh\n",
      "trips_midday_auto3_nt_hov\n",
      "trips_midday_auto3_nt_nh\n",
      "trips_midday_auto3_toll_hov\n",
      "trips_midday_auto3_toll_nh\n",
      "trips_offpeak_active_bike\n",
      "trips_offpeak_active_walk\n",
      "trips_offpeak_transit_drive_to_and_from\n",
      "trips_offpeak_transit_express_bus\n",
      "trips_offpeak_transit_local_bus\n",
      "trips_offpeak_transit_rapid_bus\n",
      "trips_offpeak_transit_subway\n",
      "trips_offpeak_transit_train\n",
      "trips_offpeak_transit_ztsa\n",
      "trips_overnight_auto1_nt\n",
      "trips_overnight_auto1_toll\n",
      "trips_overnight_auto2_nt_hov\n",
      "trips_overnight_auto2_nt_nh\n",
      "trips_overnight_auto2_toll_hov\n",
      "trips_overnight_auto2_toll_nh\n",
      "trips_overnight_auto3_nt_hov\n",
      "trips_overnight_auto3_nt_nh\n",
      "trips_overnight_auto3_toll_hov\n",
      "trips_overnight_auto3_toll_nh\n",
      "trips_peak_active_bike\n",
      "trips_peak_active_walk\n",
      "trips_peak_transit_drive_to_and_from\n",
      "trips_peak_transit_express_bus\n",
      "trips_peak_transit_local_bus\n",
      "trips_peak_transit_rapid_bus\n",
      "trips_peak_transit_subway\n",
      "trips_peak_transit_train\n",
      "trips_peak_transit_ztsa\n",
      "trips_pm_peak_auto1_nt\n",
      "trips_pm_peak_auto1_toll\n",
      "trips_pm_peak_auto2_nt_hov\n",
      "trips_pm_peak_auto2_nt_nh\n",
      "trips_pm_peak_auto2_toll_hov\n",
      "trips_pm_peak_auto2_toll_nh\n",
      "trips_pm_peak_auto3_nt_hov\n",
      "trips_pm_peak_auto3_nt_nh\n",
      "trips_pm_peak_auto3_toll_hov\n",
      "trips_pm_peak_auto3_toll_nh\n"
     ]
    }
   ],
   "source": [
    "results = {}\n",
    "for p in tiprs_folder.iterdir():\n",
    "    if p.suffix != '.mdf': continue\n",
    "    print(p.stem)\n",
    "    \n",
    "    matrix = read_mdf(p)\n",
    "    matrix_total = matrix.sum().sum()\n",
    "    results[p.stem] = matrix_total\n",
    "results = pd.Series(results)\n",
    "\n",
    "results.index.name = 'matrix_name'\n",
    "results.name = 'total_trips'\n",
    "results.to_csv(parent_folder / \"demo_matrix_summaries.csv\", index=True, header=True)"
   ]
  },
  {
   "cell_type": "code",
   "execution_count": null,
   "metadata": {},
   "outputs": [],
   "source": []
  }
 ],
 "metadata": {
  "kernelspec": {
   "display_name": "Python 3",
   "language": "python",
   "name": "python3"
  },
  "language_info": {
   "codemirror_mode": {
    "name": "ipython",
    "version": 3
   },
   "file_extension": ".py",
   "mimetype": "text/x-python",
   "name": "python",
   "nbconvert_exporter": "python",
   "pygments_lexer": "ipython3",
   "version": "3.7.0"
  }
 },
 "nbformat": 4,
 "nbformat_minor": 2
}
